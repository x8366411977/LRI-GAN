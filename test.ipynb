{
 "cells": [
  {
   "cell_type": "code",
   "execution_count": null,
   "metadata": {},
   "outputs": [],
   "source": [
    "from test import inference_Pipeline,show\n",
    "from PIL import Image\n",
    "img = r'E:\\data\\naoliuqiepain\\t1ce\\unhealthy\\BraTS2021_00006_t1ce.nii.gz(70).png' # pathological image\n",
    "mask = r'E:\\data\\naoliuqiepain\\t1ce\\mask\\BraTS2021_00006_t1ce.nii.gz(70).png' # mask\n",
    "\n",
    "generator_model_path = r'models\\deepfill.pth'\n",
    "discriminator_model_path = r'models\\discriminator.pth'\n",
    "iimage = inference_Pipeline(img,mask,generator_model_path,discriminator_model_path)"
   ]
  }
 ],
 "metadata": {
  "language_info": {
   "name": "python"
  }
 },
 "nbformat": 4,
 "nbformat_minor": 2
}
