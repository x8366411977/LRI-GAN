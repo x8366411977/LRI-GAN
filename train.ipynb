{
 "cells": [
  {
   "cell_type": "code",
   "execution_count": null,
   "metadata": {},
   "outputs": [],
   "source": [
    "from train import trainer\n",
    "data_path = r'D:\\data\\naoliuqiepain\\t2\\healthy' #healthy slice path\n",
    "generator_model_path = r'models\\deepfill.pth' \n",
    "discriminator_model_path = r'models\\discriminator.pth'\n",
    "trainer(data_path,generator_model_path,discriminator_model_path,batch_size=8,epochs=50,resume = True)"
   ]
  }
 ],
 "metadata": {
  "kernelspec": {
   "display_name": "pytorch",
   "language": "python",
   "name": "python3"
  },
  "language_info": {
   "codemirror_mode": {
    "name": "ipython",
    "version": 3
   },
   "file_extension": ".py",
   "mimetype": "text/x-python",
   "name": "python",
   "nbconvert_exporter": "python",
   "pygments_lexer": "ipython3",
   "version": "3.8.18"
  }
 },
 "nbformat": 4,
 "nbformat_minor": 2
}
